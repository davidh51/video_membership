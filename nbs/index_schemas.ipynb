{
 "cells": [
  {
   "cell_type": "code",
   "execution_count": 1,
   "id": "f1c1fe29-1d9d-4aee-b809-7d7da3d1fce0",
   "metadata": {},
   "outputs": [
    {
     "name": "stdout",
     "output_type": "stream",
     "text": [
      "/home/davidhenao695/Python/Backend/FastAPI/video_membership\n"
     ]
    },
    {
     "name": "stderr",
     "output_type": "stream",
     "text": [
      "/home/davidhenao695/Python/Backend/FastAPI/video_membership/venv/lib/python3.11/site-packages/IPython/core/magics/osm.py:417: UserWarning: This is now an optional IPython functionality, setting dhist requires you to install the `pickleshare` library.\n",
      "  self.shell.db['dhist'] = compress_dhist(dhist)[-100:]\n"
     ]
    }
   ],
   "source": [
    "%cd /home/davidhenao695/Python/Backend/FastAPI/video_membership"
   ]
  },
  {
   "cell_type": "code",
   "execution_count": 2,
   "id": "c6b6bfe0-30c0-48a7-bc32-06d4a2906f5d",
   "metadata": {},
   "outputs": [
    {
     "name": "stdout",
     "output_type": "stream",
     "text": [
      "/home/davidhenao695/Python/Backend/FastAPI/video_membership\n"
     ]
    }
   ],
   "source": [
    "!pwd # path"
   ]
  },
  {
   "cell_type": "code",
   "execution_count": 3,
   "id": "2ffbd666-2cf9-48c6-9d16-7746dfc27258",
   "metadata": {
    "editable": true,
    "slideshow": {
     "slide_type": ""
    },
    "tags": []
   },
   "outputs": [],
   "source": [
    "from app.db.models import Video, Playlist\n",
    "from sqlmodel import select\n",
    "from app.db.database import async_session\n",
    "from sqlmodel.ext.asyncio.session import AsyncSession\n",
    "from pydantic import BaseModel, Field, field_validator, model_validator\n",
    "from uuid import UUID\n",
    "from typing import Optional\n",
    "\n",
    "session: AsyncSession  =  async_session()"
   ]
  },
  {
   "cell_type": "code",
   "execution_count": 4,
   "id": "91e7a2f5-0d2b-49a4-a0c3-ac184e8e683f",
   "metadata": {
    "editable": true,
    "slideshow": {
     "slide_type": ""
    },
    "tags": []
   },
   "outputs": [
    {
     "name": "stdout",
     "output_type": "stream",
     "text": [
      "2024-07-03 12:11:24,389 INFO sqlalchemy.engine.Engine select pg_catalog.version()\n",
      "2024-07-03 12:11:24,393 INFO sqlalchemy.engine.Engine [raw sql] ()\n",
      "2024-07-03 12:11:25,294 INFO sqlalchemy.engine.Engine select current_schema()\n",
      "2024-07-03 12:11:25,295 INFO sqlalchemy.engine.Engine [raw sql] ()\n",
      "2024-07-03 12:11:26,822 INFO sqlalchemy.engine.Engine show standard_conforming_strings\n",
      "2024-07-03 12:11:26,824 INFO sqlalchemy.engine.Engine [raw sql] ()\n",
      "2024-07-03 12:11:27,492 INFO sqlalchemy.engine.Engine BEGIN (implicit)\n",
      "2024-07-03 12:11:27,510 INFO sqlalchemy.engine.Engine SELECT videos.db_id, videos.host_service, videos.host_id, videos.url, videos.title, videos.owner_id \n",
      "FROM videos\n",
      "2024-07-03 12:11:27,512 INFO sqlalchemy.engine.Engine [generated in 0.00236s] ()\n"
     ]
    }
   ],
   "source": [
    "statement = select (Video)\n",
    "video_db = await session.exec(statement)\n",
    "video = video_db.first()\n",
    "video_dict = video.__dict__"
   ]
  },
  {
   "cell_type": "code",
   "execution_count": 5,
   "id": "c020efb2-c785-4c3f-b1aa-4dbd2d9d5683",
   "metadata": {},
   "outputs": [
    {
     "data": {
      "text/plain": [
       "{'objectID': 'VO8Bk03Xv90',\n",
       " 'title': 'Obi-Wan - Obi-Wan vs Darth Vader - (HDR )',\n",
       " 'path': '/videos/VO8Bk03Xv90'}"
      ]
     },
     "execution_count": 5,
     "metadata": {},
     "output_type": "execute_result"
    }
   ],
   "source": [
    "class VideoIndex(BaseModel):\n",
    "    objectID : str = Field(alias='host_id')\n",
    "    title : Optional[str]\n",
    "    path : str = Field(alias=\"host_id\")\n",
    "\n",
    "    @field_validator(\"path\")\n",
    "    @classmethod\n",
    "    def set_path(cls, value):\n",
    "        host_id = value\n",
    "        return f\"/videos/{host_id}\"\n",
    "\n",
    "index = VideoIndex(**video_dict)\n",
    "index.dict()"
   ]
  },
  {
   "cell_type": "code",
   "execution_count": 6,
   "id": "3ece9735-4303-4134-81a9-f8ac5d8a0442",
   "metadata": {},
   "outputs": [
    {
     "name": "stdout",
     "output_type": "stream",
     "text": [
      "2024-07-03 12:11:28,249 INFO sqlalchemy.engine.Engine SELECT playlist.db_id, playlist.owner_id, playlist.host_ids, playlist.updated, playlist.title \n",
      "FROM playlist\n",
      "2024-07-03 12:11:28,269 INFO sqlalchemy.engine.Engine [generated in 0.01998s] ()\n"
     ]
    },
    {
     "data": {
      "text/plain": [
       "{'_sa_instance_state': <sqlalchemy.orm.state.InstanceState at 0x7fd3318a0ad0>,\n",
       " 'owner_id': UUID('dca2ebb8-33c6-11ef-af11-00163e90c528'),\n",
       " 'db_id': UUID('5afc9592-346a-11ef-a94b-00163e90c528'),\n",
       " 'title': 'Hello world',\n",
       " 'updated': datetime.datetime(2024, 6, 28, 7, 39, 39, 415521, tzinfo=datetime.timezone.utc),\n",
       " 'host_ids': ['VO8Bk03Xv90', 'q9NuIVwYa9Q']}"
      ]
     },
     "execution_count": 6,
     "metadata": {},
     "output_type": "execute_result"
    }
   ],
   "source": [
    "statement = select (Playlist)\n",
    "playlist_db = await session.exec(statement)\n",
    "playlist = playlist_db.first()\n",
    "playlist_dict = playlist.__dict__\n",
    "playlist_dict"
   ]
  },
  {
   "cell_type": "code",
   "execution_count": 7,
   "id": "47e3d566-c2e4-4d0c-9ff3-e5438b0e5acb",
   "metadata": {},
   "outputs": [
    {
     "name": "stderr",
     "output_type": "stream",
     "text": [
      "/home/davidhenao695/Python/Backend/FastAPI/video_membership/venv/lib/python3.11/site-packages/pydantic/main.py:347: UserWarning: Pydantic serializer warnings:\n",
      "  Expected `uuid` but got `str` - serialized value may not be as expected\n",
      "  return self.__pydantic_serializer__.to_python(\n"
     ]
    },
    {
     "data": {
      "text/plain": [
       "{'objectID': '5afc9592-346a-11ef-a94b-00163e90c528',\n",
       " 'title': 'Hello world',\n",
       " 'path': '/playlist/5afc9592-346a-11ef-a94b-00163e90c528'}"
      ]
     },
     "execution_count": 7,
     "metadata": {},
     "output_type": "execute_result"
    }
   ],
   "source": [
    "class PlaylistIndex(BaseModel):\n",
    "    objectID : UUID = Field(alias='db_id')\n",
    "    title : Optional[str]\n",
    "    path : str = Field(default=\"/\")\n",
    "\n",
    "    @model_validator(mode='after')\n",
    "    def set_defaults(self):\n",
    "        self.objectID = str(self.objectID)\n",
    "        self.path = f\"/playlist/{self.objectID}\"\n",
    "        return self\n",
    "\n",
    "PlaylistIndex(**playlist_dict).dict()"
   ]
  },
  {
   "cell_type": "code",
   "execution_count": 8,
   "id": "ef54f78e-ad33-453a-b2ef-156a9ff5772c",
   "metadata": {},
   "outputs": [
    {
     "name": "stdout",
     "output_type": "stream",
     "text": [
      "2024-07-03 12:11:30,098 INFO sqlalchemy.engine.Engine SELECT videos.db_id, videos.host_service, videos.host_id, videos.url, videos.title, videos.owner_id \n",
      "FROM videos\n",
      "2024-07-03 12:11:30,103 INFO sqlalchemy.engine.Engine [cached since 2.593s ago] ()\n"
     ]
    },
    {
     "data": {
      "text/plain": [
       "[{'objectID': 'VO8Bk03Xv90',\n",
       "  'title': 'Obi-Wan - Obi-Wan vs Darth Vader - (HDR )',\n",
       "  'path': '/videos/VO8Bk03Xv90'},\n",
       " {'objectID': 'q9NuIVwYa9Q',\n",
       "  'title': 'Los Espiritus - Gratitud Full Album',\n",
       "  'path': '/videos/q9NuIVwYa9Q'},\n",
       " {'objectID': '7OlzxfSKjtI',\n",
       "  'title': 'DIVIDIDOS - Guanuqueando',\n",
       "  'path': '/videos/7OlzxfSKjtI'},\n",
       " {'objectID': 'xxKjh_bLnQQ',\n",
       "  'title': 'Acoustic France (Official Putumayo Version)',\n",
       "  'path': '/videos/xxKjh_bLnQQ'},\n",
       " {'objectID': 'p_KxCQq7jUI',\n",
       "  'title': 'Italian Café (Official Putumayo Version)',\n",
       "  'path': '/videos/p_KxCQq7jUI'}]"
      ]
     },
     "execution_count": 8,
     "metadata": {},
     "output_type": "execute_result"
    }
   ],
   "source": [
    "statement = select (Video)\n",
    "video_db = await session.exec(statement)\n",
    "video_list = video_db.all()\n",
    "\n",
    "video_dic = [x.as_dict() for x in video_list]\n",
    "video_dataset = [VideoIndex(**x).dict() for x in video_dic]\n",
    "video_dataset"
   ]
  },
  {
   "cell_type": "code",
   "execution_count": 9,
   "id": "38a1cc82-062b-4c4c-b4fe-cd52c0c8f78b",
   "metadata": {},
   "outputs": [
    {
     "name": "stdout",
     "output_type": "stream",
     "text": [
      "2024-07-03 12:11:32,293 INFO sqlalchemy.engine.Engine SELECT playlist.db_id, playlist.owner_id, playlist.host_ids, playlist.updated, playlist.title \n",
      "FROM playlist\n",
      "2024-07-03 12:11:32,299 INFO sqlalchemy.engine.Engine [cached since 4.051s ago] ()\n"
     ]
    },
    {
     "data": {
      "text/plain": [
       "[{'objectID': '5afc9592-346a-11ef-a94b-00163e90c528',\n",
       "  'title': 'Hello world',\n",
       "  'path': '/playlist/5afc9592-346a-11ef-a94b-00163e90c528'},\n",
       " {'objectID': '2e13270e-3531-11ef-9bde-00163e90c528',\n",
       "  'title': 'Hello 3',\n",
       "  'path': '/playlist/2e13270e-3531-11ef-9bde-00163e90c528'},\n",
       " {'objectID': '254cda3a-348b-11ef-9ced-00163e90c528',\n",
       "  'title': 'Hello world2',\n",
       "  'path': '/playlist/254cda3a-348b-11ef-9ced-00163e90c528'}]"
      ]
     },
     "execution_count": 9,
     "metadata": {},
     "output_type": "execute_result"
    }
   ],
   "source": [
    "statement = select (Playlist)\n",
    "playlist_db = await session.exec(statement)\n",
    "playlist_list = playlist_db.all()\n",
    "\n",
    "playlist_dic = [x.as_dict() for x in playlist_list]\n",
    "playlist_dataset = [PlaylistIndex(**x).dict() for x in playlist_dic]\n",
    "playlist_dataset"
   ]
  },
  {
   "cell_type": "code",
   "execution_count": 11,
   "id": "4a6bb3ef-da8a-49ae-be96-cb6dfb31b6a4",
   "metadata": {},
   "outputs": [
    {
     "data": {
      "text/plain": [
       "[{'objectID': '5afc9592-346a-11ef-a94b-00163e90c528',\n",
       "  'title': 'Hello world',\n",
       "  'path': '/playlist/5afc9592-346a-11ef-a94b-00163e90c528'},\n",
       " {'objectID': '2e13270e-3531-11ef-9bde-00163e90c528',\n",
       "  'title': 'Hello 3',\n",
       "  'path': '/playlist/2e13270e-3531-11ef-9bde-00163e90c528'},\n",
       " {'objectID': '254cda3a-348b-11ef-9ced-00163e90c528',\n",
       "  'title': 'Hello world2',\n",
       "  'path': '/playlist/254cda3a-348b-11ef-9ced-00163e90c528'},\n",
       " {'objectID': 'VO8Bk03Xv90',\n",
       "  'title': 'Obi-Wan - Obi-Wan vs Darth Vader - (HDR )',\n",
       "  'path': '/videos/VO8Bk03Xv90'},\n",
       " {'objectID': 'q9NuIVwYa9Q',\n",
       "  'title': 'Los Espiritus - Gratitud Full Album',\n",
       "  'path': '/videos/q9NuIVwYa9Q'},\n",
       " {'objectID': '7OlzxfSKjtI',\n",
       "  'title': 'DIVIDIDOS - Guanuqueando',\n",
       "  'path': '/videos/7OlzxfSKjtI'},\n",
       " {'objectID': 'xxKjh_bLnQQ',\n",
       "  'title': 'Acoustic France (Official Putumayo Version)',\n",
       "  'path': '/videos/xxKjh_bLnQQ'},\n",
       " {'objectID': 'p_KxCQq7jUI',\n",
       "  'title': 'Italian Café (Official Putumayo Version)',\n",
       "  'path': '/videos/p_KxCQq7jUI'}]"
      ]
     },
     "execution_count": 11,
     "metadata": {},
     "output_type": "execute_result"
    }
   ],
   "source": [
    "dataset = playlist_dataset + video_dataset\n",
    "dataset"
   ]
  },
  {
   "cell_type": "code",
   "execution_count": null,
   "id": "6f05d1b8-aa5b-4b6b-8954-5e5831a4020c",
   "metadata": {},
   "outputs": [],
   "source": []
  }
 ],
 "metadata": {
  "kernelspec": {
   "display_name": "Python 3 (ipykernel)",
   "language": "python",
   "name": "python3"
  },
  "language_info": {
   "codemirror_mode": {
    "name": "ipython",
    "version": 3
   },
   "file_extension": ".py",
   "mimetype": "text/x-python",
   "name": "python",
   "nbconvert_exporter": "python",
   "pygments_lexer": "ipython3",
   "version": "3.11.2"
  }
 },
 "nbformat": 4,
 "nbformat_minor": 5
}
